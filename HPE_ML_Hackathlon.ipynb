{
 "cells": [
  {
   "cell_type": "code",
   "execution_count": 1,
   "metadata": {},
   "outputs": [],
   "source": [
    "#Cell 1 - Import the Training Dataset and populate the predictor and response variables\n",
    "#The response variable is \"Result\" which is the last field (index = -1)\n",
    "#The predictors variables are from index 1 to -1 (ignoring last field which is response variable) and\n",
    "#the first field \"key\" which is irrelevant for the model. \n",
    "import pandas as pd\n",
    "phish = pd.read_csv('Phising_Training_Dataset.csv')\n",
    "phish_data = phish.values\n",
    "X = phish_data[:,1:-1]\n",
    "y = phish_data[:,-1]"
   ]
  },
  {
   "cell_type": "code",
   "execution_count": 2,
   "metadata": {},
   "outputs": [
    {
     "data": {
      "text/plain": [
       "<matplotlib.axes._subplots.AxesSubplot at 0x1a1b648490>"
      ]
     },
     "execution_count": 2,
     "metadata": {},
     "output_type": "execute_result"
    },
    {
     "data": {
      "image/png": "[encoded data removed]",
      "text/plain": [
       "<Figure size 432x288 with 1 Axes>"
      ]
     },
     "metadata": {
      "needs_background": "light"
     },
     "output_type": "display_data"
    }
   ],
   "source": [
    "#Cell 2 - Checking whether balanced/imbalanced data\n",
    "import seaborn as sns\n",
    "%matplotlib inline\n",
    "sns.countplot(x='Result',data=phish)\n",
    "#The difference in number of records with Result = -1 and 1 is 1000. The data looks marginally imbalanced."
   ]
  },
  {
   "cell_type": "code",
   "execution_count": 2,
   "metadata": {},
   "outputs": [],
   "source": [
    "#Used stratify parameter to select the records with Result = -1 and 1 in the same proportion as in the parent data\n",
    "from sklearn.model_selection import train_test_split\n",
    "X_train, X_test, y_train, y_test = train_test_split(X, y, test_size = 0.2, stratify=y, random_state=0)"
   ]
  },
  {
   "cell_type": "code",
   "execution_count": 4,
   "metadata": {},
   "outputs": [
    {
     "data": {
      "text/plain": [
       "key                           -0.000854\n",
       "popUpWidnow                   -0.002868\n",
       "Favicon                       -0.003260\n",
       "RightClick                     0.004880\n",
       "Submitting_to_email            0.011981\n",
       "Iframe                        -0.013429\n",
       "Redirect                      -0.027197\n",
       "port                           0.033971\n",
       "Links_pointing_to_page         0.035003\n",
       "HTTPS_token                   -0.036573\n",
       "double_slash_redirecting      -0.037758\n",
       "on_mouseover                   0.042180\n",
       "having_At_Symbol               0.050045\n",
       "URL_Length                     0.059331\n",
       "Abnormal_URL                  -0.059860\n",
       "Shortining_Service            -0.066170\n",
       "Statistical_report             0.068015\n",
       "DNSRecord                      0.081927\n",
       "having_IP                      0.094027\n",
       "Page_Rank                      0.102920\n",
       "Google_Index                   0.121896\n",
       "age_of_domain                  0.135198\n",
       "SFH                            0.217931\n",
       "Domain_registeration_length   -0.219960\n",
       "Links_in_tags                  0.238802\n",
       "Request_URL                    0.254572\n",
       "having_Sub_Domain              0.296728\n",
       "Prefix_Suffix                  0.344660\n",
       "web_traffic                    0.355581\n",
       "URL_of_Anchor                  0.696394\n",
       "SSLfinal_State                 0.712543\n",
       "Result                         1.000000\n",
       "Name: Result, dtype: float64"
      ]
     },
     "execution_count": 4,
     "metadata": {},
     "output_type": "execute_result"
    }
   ],
   "source": [
    "phish.corr()['Result'][phish.corr()['Result'].abs().argsort()]\n",
    "#From the result, we see there are many fields which are least correlated with Result.\n",
    "#Initially, we will go with all the fields and then run feature extraction methods like PCA/FA to run on imp fields"
   ]
  },
  {
   "cell_type": "code",
   "execution_count": 5,
   "metadata": {},
   "outputs": [
    {
     "name": "stdout",
     "output_type": "stream",
     "text": [
      "Epoch 1/10\n",
      "1433/1433 [==============================] - 3s 2ms/step - loss: 0.3099 - accuracy: 0.4334\n",
      "Epoch 2/10\n",
      "1433/1433 [==============================] - 2s 2ms/step - loss: 0.1629 - accuracy: 0.5237\n",
      "Epoch 3/10\n",
      "1433/1433 [==============================] - 2s 2ms/step - loss: 0.1494 - accuracy: 0.5274\n",
      "Epoch 4/10\n",
      "1433/1433 [==============================] - 2s 2ms/step - loss: 0.1430 - accuracy: 0.5286: 0s - loss: 0.1439 - accuracy\n",
      "Epoch 5/10\n",
      "1433/1433 [==============================] - 2s 2ms/step - loss: 0.1390 - accuracy: 0.5325\n",
      "Epoch 6/10\n",
      "1433/1433 [==============================] - 2s 2ms/step - loss: 0.1362 - accuracy: 0.5317\n",
      "Epoch 7/10\n",
      "1433/1433 [==============================] - 3s 2ms/step - loss: 0.1324 - accuracy: 0.5320\n",
      "Epoch 8/10\n",
      "1433/1433 [==============================] - 2s 2ms/step - loss: 0.1310 - accuracy: 0.5339\n",
      "Epoch 9/10\n",
      "1433/1433 [==============================] - 2s 2ms/step - loss: 0.1268 - accuracy: 0.5329: 0s - loss: 0.1279 - accuracy\n",
      "Epoch 10/10\n",
      "1433/1433 [==============================] - 2s 2ms/step - loss: 0.1216 - accuracy: 0.5341\n",
      "56/56 [==============================] - 0s 2ms/step - loss: 0.1239 - accuracy: 0.5260\n"
     ]
    },
    {
     "data": {
      "text/plain": [
       "0.5259631276130676"
      ]
     },
     "execution_count": 5,
     "metadata": {},
     "output_type": "execute_result"
    }
   ],
   "source": [
    "#Classification Problem - Popular Models - Logistic Regression, SVM, Decision Trees, Random Forest\n",
    "#The number of records in dataset is around 9000. The data does not looks enough to train a dense NN model.\n",
    "#Test for Neural Netwok Classification\n",
    "#As the Result field is -1 or 1, \n",
    "#    Used Loss parameter as hinge\n",
    "#    Used activation function for output layer as tanh\n",
    "from keras.models import Sequential\n",
    "from keras.layers import Dense\n",
    "#from tensorflow.keras.optimizers import SGD\n",
    "model = Sequential()\n",
    "model.add(Dense(12,input_dim=30,activation='relu'))\n",
    "model.add(Dense(8,activation='relu'))\n",
    "model.add(Dense(1,activation='tanh'))        #o/p -1 or 1\n",
    "#opt = SGD(learning_rate=0.01)\n",
    "model.compile(loss='hinge', optimizer='adam', metrics=['accuracy'])  #or squared_hinge because o/p -1 or 1 \n",
    "#for change in sign\n",
    "model.fit(X_train, y_train, epochs=10, batch_size=5)\n",
    "_, accuracy=model.evaluate(X_test,y_test)\n",
    "accuracy\n",
    "#Acheived accuracy of 0.525 which is not good enough"
   ]
  },
  {
   "cell_type": "code",
   "execution_count": 11,
   "metadata": {},
   "outputs": [
    {
     "data": {
      "text/html": [
       "<div>\n",
       "<style scoped>\n",
       "    .dataframe tbody tr th:only-of-type {\n",
       "        vertical-align: middle;\n",
       "    }\n",
       "\n",
       "    .dataframe tbody tr th {\n",
       "        vertical-align: top;\n",
       "    }\n",
       "\n",
       "    .dataframe thead th {\n",
       "        text-align: right;\n",
       "    }\n",
       "</style>\n",
       "<table border=\"1\" class=\"dataframe\">\n",
       "  <thead>\n",
       "    <tr style=\"text-align: right;\">\n",
       "      <th></th>\n",
       "      <th>model</th>\n",
       "      <th>best_score</th>\n",
       "      <th>best_params</th>\n",
       "    </tr>\n",
       "  </thead>\n",
       "  <tbody>\n",
       "    <tr>\n",
       "      <td>0</td>\n",
       "      <td>svm</td>\n",
       "      <td>0.957901</td>\n",
       "      <td>{'C': 20, 'kernel': 'rbf'}</td>\n",
       "    </tr>\n",
       "    <tr>\n",
       "      <td>1</td>\n",
       "      <td>random_forest</td>\n",
       "      <td>0.960469</td>\n",
       "      <td>{'n_estimators': 10}</td>\n",
       "    </tr>\n",
       "    <tr>\n",
       "      <td>2</td>\n",
       "      <td>logistic_regression</td>\n",
       "      <td>0.923618</td>\n",
       "      <td>{'C': 1}</td>\n",
       "    </tr>\n",
       "  </tbody>\n",
       "</table>\n",
       "</div>"
      ],
      "text/plain": [
       "                 model  best_score                 best_params\n",
       "0                  svm    0.957901  {'C': 20, 'kernel': 'rbf'}\n",
       "1        random_forest    0.960469        {'n_estimators': 10}\n",
       "2  logistic_regression    0.923618                    {'C': 1}"
      ]
     },
     "execution_count": 11,
     "metadata": {},
     "output_type": "execute_result"
    }
   ],
   "source": [
    "#Used Grid Search to select the best model with their hyperparameters\n",
    "#Used cross validation method with 5 splits to calculate the accuracy \n",
    "#We will choose random_state=0 to compare each model on each run\n",
    "# **** This will take few minutes to run  *****\n",
    "from sklearn.svm import SVC\n",
    "from sklearn.ensemble import RandomForestClassifier\n",
    "from sklearn.linear_model import LogisticRegression\n",
    "from sklearn.model_selection import GridSearchCV\n",
    "\n",
    "model_params = {\n",
    "    'svm' : {\n",
    "        'model' : SVC(gamma='auto',random_state=0),\n",
    "        'params' : {\n",
    "            'C' : [1, 10, 20],\n",
    "            'kernel' : ['rbf', 'linear']\n",
    "        }\n",
    "    },\n",
    "    'random_forest' : {\n",
    "        'model' : RandomForestClassifier(random_state=0),\n",
    "        'params' : {\n",
    "            'n_estimators' : [1, 5, 10]\n",
    "        }\n",
    "    },\n",
    "    'logistic_regression' : {\n",
    "        'model' : LogisticRegression(solver='liblinear',multi_class='auto',random_state=0),\n",
    "        'params' : {\n",
    "            'C' : [1, 5, 10]\n",
    "        }\n",
    "    }\n",
    "}\n",
    "\n",
    "scores = []\n",
    "for model_name, mp in model_params.items():\n",
    "    clf = GridSearchCV(mp['model'],mp['params'], cv=5, return_train_score=False)\n",
    "    clf.fit(X, y)\n",
    "    scores.append({\n",
    "        'model' : model_name,\n",
    "        'best_score' : clf.best_score_,\n",
    "        'best_params' : clf.best_params_\n",
    "    })\n",
    "pd.DataFrame(scores)"
   ]
  },
  {
   "cell_type": "code",
   "execution_count": 7,
   "metadata": {},
   "outputs": [
    {
     "name": "stdout",
     "output_type": "stream",
     "text": [
      "Fitting 10 folds for each of 100 candidates, totalling 1000 fits\n"
     ]
    },
    {
     "name": "stderr",
     "output_type": "stream",
     "text": [
      "[Parallel(n_jobs=-1)]: Using backend LokyBackend with 4 concurrent workers.\n",
      "[Parallel(n_jobs=-1)]: Done  71 tasks      | elapsed:    5.4s\n",
      "[Parallel(n_jobs=-1)]: Done 1000 out of 1000 | elapsed:   10.0s finished\n"
     ]
    },
    {
     "data": {
      "text/plain": [
       "GaussianNB(priors=None, var_smoothing=0.23101297000831597)"
      ]
     },
     "execution_count": 7,
     "metadata": {},
     "output_type": "execute_result"
    }
   ],
   "source": [
    "import numpy as np\n",
    "param_grid_nb = {\n",
    "    'var_smoothing': np.logspace(0,-9, num=100)\n",
    "}\n",
    "from sklearn.naive_bayes import GaussianNB\n",
    "from sklearn.model_selection import GridSearchCV\n",
    "nbModel_grid = GridSearchCV(estimator=GaussianNB(), param_grid=param_grid_nb, verbose=1, cv=10, n_jobs=-1)\n",
    "nbModel_grid.fit(X_train, y_train)\n",
    "nbModel_grid.best_estimator_"
   ]
  },
  {
   "cell_type": "code",
   "execution_count": 10,
   "metadata": {},
   "outputs": [
    {
     "data": {
      "text/plain": [
       "0.9134561697375768"
      ]
     },
     "execution_count": 10,
     "metadata": {},
     "output_type": "execute_result"
    }
   ],
   "source": [
    "from sklearn.metrics import accuracy_score\n",
    "nbModel = GaussianNB(var_smoothing=1.0)\n",
    "nbModel.fit(X_train, y_train)\n",
    "y_pred = nbModel.predict(X_test)\n",
    "accuracy_score(y_test, y_pred)"
   ]
  },
  {
   "cell_type": "code",
   "execution_count": 11,
   "metadata": {},
   "outputs": [
    {
     "data": {
      "text/plain": [
       "0.9410385259631491"
      ]
     },
     "execution_count": 11,
     "metadata": {},
     "output_type": "execute_result"
    }
   ],
   "source": [
    "#The best model (accuracy score = 0.960469) is Random forest with hyperparameter n_estimators (number of trees) = 10\n",
    "#Let us see if the accuracy can be improved with Gradient Boosting Algorithm\n",
    "from sklearn.ensemble import GradientBoostingClassifier\n",
    "clf = GridSearchCV(GradientBoostingClassifier(random_state=0), {\n",
    "    'learning_rate' : [0.05, 0.1]\n",
    "}, cv=5, return_train_score=False)\n",
    "clf.fit(X, y)\n",
    "clf.best_score_"
   ]
  },
  {
   "cell_type": "code",
   "execution_count": 13,
   "metadata": {},
   "outputs": [
    {
     "data": {
      "text/plain": [
       "0.9676158570630933"
      ]
     },
     "execution_count": 13,
     "metadata": {},
     "output_type": "execute_result"
    }
   ],
   "source": [
    "#Gradient Boosting Algorithm does not look to improve the score from 0.960469\n",
    "#Let us concentrate on Random Forest Algo\n",
    "from sklearn.ensemble import RandomForestClassifier\n",
    "from sklearn.metrics import accuracy_score\n",
    "model = RandomForestClassifier(n_estimators=10,random_state=0)\n",
    "model.fit(X_train, y_train)\n",
    "y_pred=model.predict(X_test)\n",
    "accuracy_score(y_test, y_pred)"
   ]
  },
  {
   "cell_type": "code",
   "execution_count": 14,
   "metadata": {},
   "outputs": [
    {
     "name": "stdout",
     "output_type": "stream",
     "text": [
      "Component: 16 (Accuracy: 0.955)\n",
      "Component: 17 (Accuracy: 0.953)\n",
      "Component: 18 (Accuracy: 0.958)\n",
      "Component: 19 (Accuracy: 0.958)\n",
      "Component: 20 (Accuracy: 0.950)\n",
      "Component: 21 (Accuracy: 0.956)\n",
      "Component: 22 (Accuracy: 0.956)\n",
      "Component: 23 (Accuracy: 0.956)\n",
      "Component: 24 (Accuracy: 0.955)\n",
      "Component: 25 (Accuracy: 0.958)\n",
      "Component: 26 (Accuracy: 0.959)\n",
      "Component: 27 (Accuracy: 0.955)\n",
      "Component: 28 (Accuracy: 0.959)\n",
      "Component: 29 (Accuracy: 0.956)\n",
      "Component: 30 (Accuracy: 0.958)\n"
     ]
    }
   ],
   "source": [
    "#We will use a Pipeline to combine the data transform and model into an atomic unit that can be evaluated using the\n",
    "#cross-validation procedure;\n",
    "from sklearn.preprocessing import StandardScaler\n",
    "from sklearn.pipeline import Pipeline\n",
    "from sklearn.decomposition import PCA\n",
    "from sklearn.ensemble import RandomForestClassifier\n",
    "for component in range(16,31):\n",
    "    steps = [('Scaler', StandardScaler()), ('pca', PCA(n_components=component)), \n",
    "             ('m', RandomForestClassifier(n_estimators=10))]\n",
    "    model = Pipeline(steps=steps)\n",
    "    model.fit(X_train, y_train)\n",
    "    y_pred=model.predict(X_test)\n",
    "    print('Component: %d (Accuracy: %.3f)' % (component, accuracy_score(y_test, y_pred)))\n",
    "#In this case, we don’t see any lift in model performance in using the PCA transform."
   ]
  },
  {
   "cell_type": "code",
   "execution_count": 15,
   "metadata": {},
   "outputs": [
    {
     "name": "stdout",
     "output_type": "stream",
     "text": [
      "Component: 16 (Accuracy: 0.955)\n",
      "Component: 17 (Accuracy: 0.959)\n",
      "Component: 18 (Accuracy: 0.956)\n",
      "Component: 19 (Accuracy: 0.959)\n",
      "Component: 20 (Accuracy: 0.961)\n",
      "Component: 21 (Accuracy: 0.959)\n",
      "Component: 22 (Accuracy: 0.959)\n",
      "Component: 23 (Accuracy: 0.966)\n",
      "Component: 24 (Accuracy: 0.960)\n",
      "Component: 25 (Accuracy: 0.958)\n",
      "Component: 26 (Accuracy: 0.963)\n",
      "Component: 27 (Accuracy: 0.958)\n",
      "Component: 28 (Accuracy: 0.965)\n",
      "Component: 29 (Accuracy: 0.964)\n",
      "Component: 30 (Accuracy: 0.959)\n"
     ]
    }
   ],
   "source": [
    "#We will use a Pipeline to combine the data transform and model into an atomic unit that can be evaluated using the\n",
    "#cross-validation procedure;\n",
    "from factor_analyzer import FactorAnalyzer\n",
    "for component in range(16,31):\n",
    "    steps = [('Scaler', StandardScaler()), ('fa', FactorAnalyzer(n_factors=component, rotation='varimax')), \n",
    "             ('m', RandomForestClassifier(n_estimators=10))]\n",
    "    model = Pipeline(steps=steps)\n",
    "    model.fit(X_train, y_train)\n",
    "    y_pred=model.predict(X_test)\n",
    "    print('Component: %d (Accuracy: %.3f)' % (component, accuracy_score(y_test, y_pred)))\n",
    "#In this case, we don’t see any lift in model performance in using the PCA transform."
   ]
  },
  {
   "cell_type": "code",
   "execution_count": 4,
   "metadata": {},
   "outputs": [
    {
     "data": {
      "image/png": "[encoded data removed]",
      "text/plain": [
       "<Figure size 432x288 with 1 Axes>"
      ]
     },
     "metadata": {
      "needs_background": "light"
     },
     "output_type": "display_data"
    }
   ],
   "source": [
    "from sklearn.ensemble import RandomForestClassifier\n",
    "\n",
    "model = RandomForestClassifier(n_estimators=10,random_state=0)\n",
    "model.fit(X_train, y_train)\n",
    "\n",
    "# Get numerical feature importances\n",
    "importances = list(model.feature_importances_)\n",
    "feature_list = list(phish.columns[1:-1])\n",
    "# List of tuples with variable and importance\n",
    "feature_importances = [(feature, importance) for feature, importance in zip(feature_list, importances)]\n",
    "# Sort the feature importances by most important first\n",
    "feature_importances = sorted(feature_importances, key = lambda x: x[1], reverse = True)\n",
    "\n",
    "import matplotlib.pyplot as plt\n",
    "%matplotlib inline\n",
    "# list of x locations for plotting\n",
    "x_values = list(range(len(importances)))\n",
    "# Make a bar chart\n",
    "plt.bar(x_values, importances, orientation = 'vertical', color = 'r', edgecolor = 'k', linewidth = 1.2)\n",
    "# Tick labels for x axis\n",
    "plt.xticks(x_values, feature_list, rotation='vertical')\n",
    "# Axis labels and title\n",
    "plt.ylabel('Importance'); plt.xlabel('Variable'); plt.title('Variable Importances');"
   ]
  },
  {
   "cell_type": "code",
   "execution_count": 5,
   "metadata": {},
   "outputs": [
    {
     "data": {
      "image/png": "[encoded data removed]",
      "text/plain": [
       "<Figure size 432x288 with 1 Axes>"
      ]
     },
     "metadata": {
      "needs_background": "light"
     },
     "output_type": "display_data"
    }
   ],
   "source": [
    "# List of features sorted from most to least important\n",
    "import numpy as np\n",
    "sorted_importances = [importance[1] for importance in feature_importances]\n",
    "sorted_features = [importance[0] for importance in feature_importances]\n",
    "# Cumulative importances\n",
    "cumulative_importances = np.cumsum(sorted_importances)\n",
    "# Make a line graph\n",
    "plt.plot(x_values, cumulative_importances, 'g-')\n",
    "# Draw line at 99% of importance retained\n",
    "plt.hlines(y = 0.99, xmin=0, xmax=len(sorted_importances), color = 'r', linestyles = 'dashed')\n",
    "# Format x ticks and labels\n",
    "plt.xticks(x_values, sorted_features, rotation = 'vertical')\n",
    "# Axis labels and title\n",
    "plt.xlabel('Variable'); plt.ylabel('Cumulative Importance'); plt.title('Cumulative Importances');"
   ]
  },
  {
   "cell_type": "code",
   "execution_count": 6,
   "metadata": {},
   "outputs": [
    {
     "name": "stdout",
     "output_type": "stream",
     "text": [
      "Number of features for 99% importance: 26\n"
     ]
    }
   ],
   "source": [
    "# Find number of features which are not at all relevant and contributing to the model\n",
    "# Add 1 because Python is zero-indexed\n",
    "print('Number of features for 99% importance:', np.where(cumulative_importances > 0.99)[0][0] + 1)"
   ]
  },
  {
   "cell_type": "code",
   "execution_count": 9,
   "metadata": {},
   "outputs": [
    {
     "name": "stdout",
     "output_type": "stream",
     "text": [
      "Feature: 16 (Accuracy: 0.963)\n",
      "Feature: 17 (Accuracy: 0.966)\n",
      "Feature: 18 (Accuracy: 0.964)\n",
      "Feature: 19 (Accuracy: 0.964)\n",
      "Feature: 20 (Accuracy: 0.966)\n",
      "Feature: 21 (Accuracy: 0.962)\n",
      "Feature: 22 (Accuracy: 0.963)\n",
      "Feature: 23 (Accuracy: 0.965)\n",
      "Feature: 24 (Accuracy: 0.969)\n",
      "Feature: 25 (Accuracy: 0.969)\n",
      "Feature: 26 (Accuracy: 0.968)\n",
      "Feature: 27 (Accuracy: 0.968)\n",
      "Feature: 28 (Accuracy: 0.968)\n",
      "Feature: 29 (Accuracy: 0.965)\n",
      "Feature: 30 (Accuracy: 0.967)\n"
     ]
    }
   ],
   "source": [
    "from sklearn.metrics import accuracy_score\n",
    "for important_feature_count in range(16,31):\n",
    "    important_feature_names = [feature[0] for feature in feature_importances[0:important_feature_count]]\n",
    "    # Find the columns of the most important features\n",
    "    important_indices = [feature_list.index(feature) for feature in important_feature_names]\n",
    "    # Create training and testing sets with only the important features\n",
    "    important_train_features = X_train[:, important_indices]\n",
    "    important_test_features = X_test[:, important_indices]\n",
    "    model = RandomForestClassifier(n_estimators=10, random_state=0)\n",
    "    model.fit(important_train_features, y_train)\n",
    "    y_pred=model.predict(important_test_features)\n",
    "    print('Feature: %d (Accuracy: %.3f)' % (important_feature_count, accuracy_score(y_test, y_pred)))"
   ]
  },
  {
   "cell_type": "code",
   "execution_count": 68,
   "metadata": {},
   "outputs": [
    {
     "data": {
      "text/plain": [
       "GridSearchCV(cv=5, error_score='raise-deprecating',\n",
       "             estimator=RandomForestClassifier(bootstrap=True, class_weight=None,\n",
       "                                              criterion='gini', max_depth=None,\n",
       "                                              max_features='auto',\n",
       "                                              max_leaf_nodes=None,\n",
       "                                              min_impurity_decrease=0.0,\n",
       "                                              min_impurity_split=None,\n",
       "                                              min_samples_leaf=1,\n",
       "                                              min_samples_split=2,\n",
       "                                              min_weight_fraction_leaf=0.0,\n",
       "                                              n_estimators='warn', n_jobs=None,\n",
       "                                              oob_score=False, random_state=0,\n",
       "                                              verbose=0, warm_start=False),\n",
       "             iid='warn', n_jobs=None,\n",
       "             param_grid={'max_depth': [2, 4, 8, 16, 32, None],\n",
       "                         'n_estimators': [5, 10, 50, 100, 250]},\n",
       "             pre_dispatch='2*n_jobs', refit=True, return_train_score=False,\n",
       "             scoring=None, verbose=0)"
      ]
     },
     "execution_count": 68,
     "metadata": {},
     "output_type": "execute_result"
    }
   ],
   "source": [
    "#Tune further\n",
    "# We have excluded tune of below hyperparameters (took long time to run) but not improved the score\n",
    "#      \"min_samples_split\" : [2,4,6],\n",
    "#      \"min_samples_leaf\" : [1,3,5],\n",
    "#      \"max_features\" : ['auto','log2',None],\n",
    "rfc = RandomForestClassifier(random_state=0)\n",
    "parameters = {\n",
    "    \"n_estimators\":[5,10,50,100,250],\n",
    "    \"max_depth\":[2,4,8,16,32,None]\n",
    "    \n",
    "}\n",
    "from sklearn.model_selection import GridSearchCV\n",
    "cv = GridSearchCV(rfc,parameters,cv=5)\n",
    "important_features = X[:, important_indices]\n",
    "cv.fit(important_features,y)"
   ]
  },
  {
   "cell_type": "code",
   "execution_count": 69,
   "metadata": {},
   "outputs": [
    {
     "name": "stdout",
     "output_type": "stream",
     "text": [
      "Best parameters are: {'max_depth': 32, 'n_estimators': 250}\n",
      "\n",
      "\n",
      "0.85 + or -0.003 for the {'max_depth': 2, 'n_estimators': 5}\n",
      "0.914 + or -0.007 for the {'max_depth': 2, 'n_estimators': 10}\n",
      "0.897 + or -0.017 for the {'max_depth': 2, 'n_estimators': 50}\n",
      "0.912 + or -0.015 for the {'max_depth': 2, 'n_estimators': 100}\n",
      "0.914 + or -0.018 for the {'max_depth': 2, 'n_estimators': 250}\n",
      "0.907 + or -0.017 for the {'max_depth': 4, 'n_estimators': 5}\n",
      "0.924 + or -0.006 for the {'max_depth': 4, 'n_estimators': 10}\n",
      "0.926 + or -0.005 for the {'max_depth': 4, 'n_estimators': 50}\n",
      "0.926 + or -0.006 for the {'max_depth': 4, 'n_estimators': 100}\n",
      "0.922 + or -0.008 for the {'max_depth': 4, 'n_estimators': 250}\n",
      "0.928 + or -0.013 for the {'max_depth': 8, 'n_estimators': 5}\n",
      "0.934 + or -0.009 for the {'max_depth': 8, 'n_estimators': 10}\n",
      "0.94 + or -0.007 for the {'max_depth': 8, 'n_estimators': 50}\n",
      "0.939 + or -0.008 for the {'max_depth': 8, 'n_estimators': 100}\n",
      "0.94 + or -0.008 for the {'max_depth': 8, 'n_estimators': 250}\n",
      "0.954 + or -0.018 for the {'max_depth': 16, 'n_estimators': 5}\n",
      "0.957 + or -0.023 for the {'max_depth': 16, 'n_estimators': 10}\n",
      "0.962 + or -0.02 for the {'max_depth': 16, 'n_estimators': 50}\n",
      "0.963 + or -0.02 for the {'max_depth': 16, 'n_estimators': 100}\n",
      "0.964 + or -0.02 for the {'max_depth': 16, 'n_estimators': 250}\n",
      "0.96 + or -0.017 for the {'max_depth': 32, 'n_estimators': 5}\n",
      "0.963 + or -0.022 for the {'max_depth': 32, 'n_estimators': 10}\n",
      "0.964 + or -0.022 for the {'max_depth': 32, 'n_estimators': 50}\n",
      "0.964 + or -0.021 for the {'max_depth': 32, 'n_estimators': 100}\n",
      "0.964 + or -0.02 for the {'max_depth': 32, 'n_estimators': 250}\n",
      "0.96 + or -0.017 for the {'max_depth': None, 'n_estimators': 5}\n",
      "0.963 + or -0.022 for the {'max_depth': None, 'n_estimators': 10}\n",
      "0.964 + or -0.022 for the {'max_depth': None, 'n_estimators': 50}\n",
      "0.964 + or -0.021 for the {'max_depth': None, 'n_estimators': 100}\n",
      "0.964 + or -0.02 for the {'max_depth': None, 'n_estimators': 250}\n"
     ]
    }
   ],
   "source": [
    "def display(results):\n",
    "    print(f'Best parameters are: {results.best_params_}')\n",
    "    print(\"\\n\")\n",
    "    mean_score = results.cv_results_['mean_test_score']\n",
    "    std_score = results.cv_results_['std_test_score']\n",
    "    params = results.cv_results_['params']\n",
    "    for mean,std,params in zip(mean_score,std_score,params):\n",
    "        print(f'{round(mean,3)} + or -{round(std,3)} for the {params}')\n",
    "display(cv)"
   ]
  },
  {
   "cell_type": "code",
   "execution_count": 10,
   "metadata": {},
   "outputs": [
    {
     "data": {
      "text/plain": [
       "0.9731993299832495"
      ]
     },
     "execution_count": 10,
     "metadata": {},
     "output_type": "execute_result"
    }
   ],
   "source": [
    "#Final Model - 0.964 + or -0.02 for the {'max_depth': 16, 'n_estimators': 250}\n",
    "#Although random forests usually do not overfit as they are made up of many weak classifiers that are independently\n",
    "#trained on different subsets of the training data.\n",
    "#Chosen max depth = 16 as longer depths may overfit the data\n",
    "important_train_features = X_train[:, important_indices]\n",
    "important_test_features = X_test[:, important_indices]\n",
    "model = RandomForestClassifier(n_estimators=250, max_depth = 16, random_state=0)\n",
    "model.fit(important_train_features, y_train)\n",
    "y_pred=model.predict(important_test_features)\n",
    "accuracy_score(y_test, y_pred)"
   ]
  },
  {
   "cell_type": "code",
   "execution_count": 21,
   "metadata": {},
   "outputs": [
    {
     "data": {
      "text/plain": [
       "0.9611433675748102"
      ]
     },
     "execution_count": 21,
     "metadata": {},
     "output_type": "execute_result"
    }
   ],
   "source": [
    "#Check for Overfit\n",
    "X_train, X_test, y_train, y_test = train_test_split(X, y, test_size = 0.5, stratify=y, random_state=0)\n",
    "important_train_features = X_train[:, important_indices]\n",
    "important_test_features = X_test[:, important_indices]\n",
    "model = RandomForestClassifier(n_estimators=250, max_depth = 16, random_state=0)\n",
    "model.fit(important_train_features, y_train)\n",
    "y_pred=model.predict(important_test_features)\n",
    "accuracy_score(y_test, y_pred)"
   ]
  },
  {
   "cell_type": "code",
   "execution_count": 23,
   "metadata": {},
   "outputs": [
    {
     "data": {
      "text/html": [
       "<div>\n",
       "<style scoped>\n",
       "    .dataframe tbody tr th:only-of-type {\n",
       "        vertical-align: middle;\n",
       "    }\n",
       "\n",
       "    .dataframe tbody tr th {\n",
       "        vertical-align: top;\n",
       "    }\n",
       "\n",
       "    .dataframe thead th {\n",
       "        text-align: right;\n",
       "    }\n",
       "</style>\n",
       "<table border=\"1\" class=\"dataframe\">\n",
       "  <thead>\n",
       "    <tr style=\"text-align: right;\">\n",
       "      <th></th>\n",
       "      <th>precision</th>\n",
       "      <th>recall</th>\n",
       "      <th>f1-score</th>\n",
       "      <th>support</th>\n",
       "    </tr>\n",
       "  </thead>\n",
       "  <tbody>\n",
       "    <tr>\n",
       "      <td>-1</td>\n",
       "      <td>0.964639</td>\n",
       "      <td>0.945946</td>\n",
       "      <td>0.955201</td>\n",
       "      <td>1961.000000</td>\n",
       "    </tr>\n",
       "    <tr>\n",
       "      <td>1</td>\n",
       "      <td>0.958513</td>\n",
       "      <td>0.972984</td>\n",
       "      <td>0.965694</td>\n",
       "      <td>2517.000000</td>\n",
       "    </tr>\n",
       "    <tr>\n",
       "      <td>accuracy</td>\n",
       "      <td>0.961143</td>\n",
       "      <td>0.961143</td>\n",
       "      <td>0.961143</td>\n",
       "      <td>0.961143</td>\n",
       "    </tr>\n",
       "    <tr>\n",
       "      <td>macro avg</td>\n",
       "      <td>0.961576</td>\n",
       "      <td>0.959465</td>\n",
       "      <td>0.960447</td>\n",
       "      <td>4478.000000</td>\n",
       "    </tr>\n",
       "    <tr>\n",
       "      <td>weighted avg</td>\n",
       "      <td>0.961195</td>\n",
       "      <td>0.961143</td>\n",
       "      <td>0.961099</td>\n",
       "      <td>4478.000000</td>\n",
       "    </tr>\n",
       "  </tbody>\n",
       "</table>\n",
       "</div>"
      ],
      "text/plain": [
       "              precision    recall  f1-score      support\n",
       "-1             0.964639  0.945946  0.955201  1961.000000\n",
       "1              0.958513  0.972984  0.965694  2517.000000\n",
       "accuracy       0.961143  0.961143  0.961143     0.961143\n",
       "macro avg      0.961576  0.959465  0.960447  4478.000000\n",
       "weighted avg   0.961195  0.961143  0.961099  4478.000000"
      ]
     },
     "execution_count": 23,
     "metadata": {},
     "output_type": "execute_result"
    }
   ],
   "source": [
    "from sklearn.metrics import classification_report\n",
    "pd.DataFrame(classification_report(y_test, y_pred, output_dict=True)).T"
   ]
  },
  {
   "cell_type": "code",
   "execution_count": 11,
   "metadata": {},
   "outputs": [],
   "source": [
    "phish_test = pd.read_csv('Phising_Testing_Dataset.csv')\n",
    "phish_data_test = phish_test.values\n",
    "X_test_data = phish_data_test[:,1:]\n",
    "important_testing_features = X_test_data[:, important_indices]\n",
    "Result = model.predict(important_testing_features)\n",
    "key = phish_data_test[:,0]\n",
    "sample_submission = pd.DataFrame({'key' : list(key),'Result' : list(Result)})\n",
    "sample_submission.to_csv('sample_submission.csv', index=False)"
   ]
  },
  {
   "cell_type": "code",
   "execution_count": 12,
   "metadata": {},
   "outputs": [
    {
     "data": {
      "text/html": [
       "<div>\n",
       "<style scoped>\n",
       "    .dataframe tbody tr th:only-of-type {\n",
       "        vertical-align: middle;\n",
       "    }\n",
       "\n",
       "    .dataframe tbody tr th {\n",
       "        vertical-align: top;\n",
       "    }\n",
       "\n",
       "    .dataframe thead th {\n",
       "        text-align: right;\n",
       "    }\n",
       "</style>\n",
       "<table border=\"1\" class=\"dataframe\">\n",
       "  <thead>\n",
       "    <tr style=\"text-align: right;\">\n",
       "      <th></th>\n",
       "      <th>key</th>\n",
       "      <th>Result</th>\n",
       "    </tr>\n",
       "  </thead>\n",
       "  <tbody>\n",
       "    <tr>\n",
       "      <td>0</td>\n",
       "      <td>21338</td>\n",
       "      <td>1</td>\n",
       "    </tr>\n",
       "    <tr>\n",
       "      <td>1</td>\n",
       "      <td>21339</td>\n",
       "      <td>-1</td>\n",
       "    </tr>\n",
       "    <tr>\n",
       "      <td>2</td>\n",
       "      <td>21340</td>\n",
       "      <td>-1</td>\n",
       "    </tr>\n",
       "    <tr>\n",
       "      <td>3</td>\n",
       "      <td>21341</td>\n",
       "      <td>-1</td>\n",
       "    </tr>\n",
       "    <tr>\n",
       "      <td>4</td>\n",
       "      <td>21342</td>\n",
       "      <td>1</td>\n",
       "    </tr>\n",
       "  </tbody>\n",
       "</table>\n",
       "</div>"
      ],
      "text/plain": [
       "     key  Result\n",
       "0  21338       1\n",
       "1  21339      -1\n",
       "2  21340      -1\n",
       "3  21341      -1\n",
       "4  21342       1"
      ]
     },
     "execution_count": 12,
     "metadata": {},
     "output_type": "execute_result"
    }
   ],
   "source": [
    "s = pd.read_csv('sample_submission.csv')\n",
    "s.head(5)"
   ]
  },
  {
   "cell_type": "code",
   "execution_count": null,
   "metadata": {},
   "outputs": [],
   "source": []
  }
 ],
 "metadata": {
  "kernelspec": {
   "display_name": "Python 3 (ipykernel)",
   "language": "python",
   "name": "python3"
  },
  "language_info": {
   "codemirror_mode": {
    "name": "ipython",
    "version": 3
   },
   "file_extension": ".py",
   "mimetype": "text/x-python",
   "name": "python",
   "nbconvert_exporter": "python",
   "pygments_lexer": "ipython3",
   "version": "3.9.12"
  }
 },
 "nbformat": 4,
 "nbformat_minor": 2
}
